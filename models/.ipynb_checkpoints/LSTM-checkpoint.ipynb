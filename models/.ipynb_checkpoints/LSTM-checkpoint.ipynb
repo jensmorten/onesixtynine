{
 "cells": [
  {
   "cell_type": "code",
   "execution_count": 121,
   "id": "f4b8340f-6c73-4038-9464-6afafda79fdc",
   "metadata": {},
   "outputs": [],
   "source": [
    "import numpy as np\n",
    "import pandas as pd\n",
    "import matplotlib.pyplot as plt\n",
    "import seaborn as sns\n",
    "from sklearn.preprocessing import MinMaxScaler\n",
    "from sklearn.metrics import mean_absolute_error, mean_squared_error\n",
    "from tensorflow.keras.models import Sequential\n",
    "from tensorflow.keras.layers import LSTM, Dense\n",
    "from tensorflow.keras.optimizers import Adam"
   ]
  },
  {
   "cell_type": "code",
   "execution_count": 122,
   "id": "938fa0af-d0a3-48e4-b5d1-6051afe64437",
   "metadata": {},
   "outputs": [],
   "source": [
    "# Laste poll-of-polls data\n",
    "df = pd.read_csv(\"../data/all_polls.csv\", sep=\",\", encoding='ISO-8859-1')"
   ]
  },
  {
   "cell_type": "code",
   "execution_count": 123,
   "id": "ee248ca9-0fa2-44f0-a08f-ebaf3dc6b24f",
   "metadata": {},
   "outputs": [],
   "source": [
    "# Convert to datetime and set the date to the end of the month\n",
    "df[\"Dato\"] = pd.to_datetime(df[\"Dato\"])"
   ]
  },
  {
   "cell_type": "code",
   "execution_count": 124,
   "id": "2d222447-b7e1-4ec4-989a-8728f2946afd",
   "metadata": {},
   "outputs": [],
   "source": [
    "# Sort values and set index\n",
    "df = df.sort_values(\"Dato\")\n",
    "df.set_index(\"Dato\", inplace=True)"
   ]
  },
  {
   "cell_type": "code",
   "execution_count": 125,
   "id": "05ed3098-74c1-4dbf-88e0-730ef77b723f",
   "metadata": {},
   "outputs": [],
   "source": [
    "df_en=df[[\"Ap\",\"Høyre\",\"Frp\",\"SV\",\"Sp\",\"KrF\",\"Venstre\",\"MDG\",\"Rødt\"]]"
   ]
  },
  {
   "cell_type": "code",
   "execution_count": 126,
   "id": "b6626a10-1ef0-4f71-a3eb-56a1aa387911",
   "metadata": {},
   "outputs": [
    {
     "data": {
      "text/html": [
       "<div>\n",
       "<style scoped>\n",
       "    .dataframe tbody tr th:only-of-type {\n",
       "        vertical-align: middle;\n",
       "    }\n",
       "\n",
       "    .dataframe tbody tr th {\n",
       "        vertical-align: top;\n",
       "    }\n",
       "\n",
       "    .dataframe thead th {\n",
       "        text-align: right;\n",
       "    }\n",
       "</style>\n",
       "<table border=\"1\" class=\"dataframe\">\n",
       "  <thead>\n",
       "    <tr style=\"text-align: right;\">\n",
       "      <th></th>\n",
       "      <th>Ap</th>\n",
       "      <th>Høyre</th>\n",
       "      <th>Frp</th>\n",
       "      <th>SV</th>\n",
       "      <th>Sp</th>\n",
       "      <th>KrF</th>\n",
       "      <th>Venstre</th>\n",
       "      <th>MDG</th>\n",
       "      <th>Rødt</th>\n",
       "    </tr>\n",
       "    <tr>\n",
       "      <th>Dato</th>\n",
       "      <th></th>\n",
       "      <th></th>\n",
       "      <th></th>\n",
       "      <th></th>\n",
       "      <th></th>\n",
       "      <th></th>\n",
       "      <th></th>\n",
       "      <th></th>\n",
       "      <th></th>\n",
       "    </tr>\n",
       "  </thead>\n",
       "  <tbody>\n",
       "    <tr>\n",
       "      <th>2008-01-09</th>\n",
       "      <td>32.7</td>\n",
       "      <td>14.1</td>\n",
       "      <td>23.2</td>\n",
       "      <td>7.1</td>\n",
       "      <td>6.4</td>\n",
       "      <td>7.8</td>\n",
       "      <td>6.0</td>\n",
       "      <td>0.0</td>\n",
       "      <td>0.0</td>\n",
       "    </tr>\n",
       "    <tr>\n",
       "      <th>2008-01-10</th>\n",
       "      <td>30.7</td>\n",
       "      <td>16.2</td>\n",
       "      <td>23.4</td>\n",
       "      <td>8.1</td>\n",
       "      <td>5.4</td>\n",
       "      <td>5.6</td>\n",
       "      <td>7.4</td>\n",
       "      <td>0.0</td>\n",
       "      <td>0.0</td>\n",
       "    </tr>\n",
       "    <tr>\n",
       "      <th>2008-01-18</th>\n",
       "      <td>29.5</td>\n",
       "      <td>17.7</td>\n",
       "      <td>25.6</td>\n",
       "      <td>6.4</td>\n",
       "      <td>5.0</td>\n",
       "      <td>6.4</td>\n",
       "      <td>6.1</td>\n",
       "      <td>0.0</td>\n",
       "      <td>0.0</td>\n",
       "    </tr>\n",
       "    <tr>\n",
       "      <th>2008-01-21</th>\n",
       "      <td>28.4</td>\n",
       "      <td>20.6</td>\n",
       "      <td>24.7</td>\n",
       "      <td>5.6</td>\n",
       "      <td>6.1</td>\n",
       "      <td>6.7</td>\n",
       "      <td>5.2</td>\n",
       "      <td>0.0</td>\n",
       "      <td>1.6</td>\n",
       "    </tr>\n",
       "    <tr>\n",
       "      <th>2008-01-21</th>\n",
       "      <td>30.7</td>\n",
       "      <td>18.3</td>\n",
       "      <td>24.2</td>\n",
       "      <td>7.1</td>\n",
       "      <td>5.4</td>\n",
       "      <td>6.2</td>\n",
       "      <td>5.4</td>\n",
       "      <td>0.0</td>\n",
       "      <td>1.1</td>\n",
       "    </tr>\n",
       "    <tr>\n",
       "      <th>...</th>\n",
       "      <td>...</td>\n",
       "      <td>...</td>\n",
       "      <td>...</td>\n",
       "      <td>...</td>\n",
       "      <td>...</td>\n",
       "      <td>...</td>\n",
       "      <td>...</td>\n",
       "      <td>...</td>\n",
       "      <td>...</td>\n",
       "    </tr>\n",
       "    <tr>\n",
       "      <th>2025-09-05</th>\n",
       "      <td>27.7</td>\n",
       "      <td>15.0</td>\n",
       "      <td>21.0</td>\n",
       "      <td>5.8</td>\n",
       "      <td>5.8</td>\n",
       "      <td>4.2</td>\n",
       "      <td>3.9</td>\n",
       "      <td>6.4</td>\n",
       "      <td>5.3</td>\n",
       "    </tr>\n",
       "    <tr>\n",
       "      <th>2025-09-05</th>\n",
       "      <td>26.4</td>\n",
       "      <td>14.3</td>\n",
       "      <td>20.4</td>\n",
       "      <td>6.0</td>\n",
       "      <td>6.2</td>\n",
       "      <td>4.2</td>\n",
       "      <td>4.3</td>\n",
       "      <td>7.2</td>\n",
       "      <td>6.9</td>\n",
       "    </tr>\n",
       "    <tr>\n",
       "      <th>2025-09-06</th>\n",
       "      <td>27.0</td>\n",
       "      <td>13.5</td>\n",
       "      <td>20.8</td>\n",
       "      <td>5.3</td>\n",
       "      <td>7.0</td>\n",
       "      <td>5.8</td>\n",
       "      <td>4.1</td>\n",
       "      <td>6.0</td>\n",
       "      <td>5.6</td>\n",
       "    </tr>\n",
       "    <tr>\n",
       "      <th>2025-09-06</th>\n",
       "      <td>27.3</td>\n",
       "      <td>14.9</td>\n",
       "      <td>21.3</td>\n",
       "      <td>5.7</td>\n",
       "      <td>6.0</td>\n",
       "      <td>4.7</td>\n",
       "      <td>3.9</td>\n",
       "      <td>6.4</td>\n",
       "      <td>5.3</td>\n",
       "    </tr>\n",
       "    <tr>\n",
       "      <th>2025-09-06</th>\n",
       "      <td>29.5</td>\n",
       "      <td>14.9</td>\n",
       "      <td>18.9</td>\n",
       "      <td>5.8</td>\n",
       "      <td>6.2</td>\n",
       "      <td>5.1</td>\n",
       "      <td>4.5</td>\n",
       "      <td>5.6</td>\n",
       "      <td>6.4</td>\n",
       "    </tr>\n",
       "  </tbody>\n",
       "</table>\n",
       "<p>1863 rows × 9 columns</p>\n",
       "</div>"
      ],
      "text/plain": [
       "              Ap  Høyre   Frp   SV   Sp  KrF  Venstre  MDG  Rødt\n",
       "Dato                                                            \n",
       "2008-01-09  32.7   14.1  23.2  7.1  6.4  7.8      6.0  0.0   0.0\n",
       "2008-01-10  30.7   16.2  23.4  8.1  5.4  5.6      7.4  0.0   0.0\n",
       "2008-01-18  29.5   17.7  25.6  6.4  5.0  6.4      6.1  0.0   0.0\n",
       "2008-01-21  28.4   20.6  24.7  5.6  6.1  6.7      5.2  0.0   1.6\n",
       "2008-01-21  30.7   18.3  24.2  7.1  5.4  6.2      5.4  0.0   1.1\n",
       "...          ...    ...   ...  ...  ...  ...      ...  ...   ...\n",
       "2025-09-05  27.7   15.0  21.0  5.8  5.8  4.2      3.9  6.4   5.3\n",
       "2025-09-05  26.4   14.3  20.4  6.0  6.2  4.2      4.3  7.2   6.9\n",
       "2025-09-06  27.0   13.5  20.8  5.3  7.0  5.8      4.1  6.0   5.6\n",
       "2025-09-06  27.3   14.9  21.3  5.7  6.0  4.7      3.9  6.4   5.3\n",
       "2025-09-06  29.5   14.9  18.9  5.8  6.2  5.1      4.5  5.6   6.4\n",
       "\n",
       "[1863 rows x 9 columns]"
      ]
     },
     "execution_count": 126,
     "metadata": {},
     "output_type": "execute_result"
    }
   ],
   "source": [
    "df_en"
   ]
  },
  {
   "cell_type": "code",
   "execution_count": 127,
   "id": "af0723d5-f132-471e-a368-940f73bf01b0",
   "metadata": {},
   "outputs": [],
   "source": [
    "n_timesteps = 5   # past steps to look at\n",
    "n_future = 12      # steps into the future we want to predict\n",
    "n_features = df_en.shape[1]  \n",
    "series_names = df_en.columns"
   ]
  },
  {
   "cell_type": "code",
   "execution_count": 128,
   "id": "d7043fa1-76e5-41f7-8d13-12683d06f53c",
   "metadata": {},
   "outputs": [
    {
     "data": {
      "text/plain": [
       "9"
      ]
     },
     "execution_count": 128,
     "metadata": {},
     "output_type": "execute_result"
    }
   ],
   "source": [
    "n_features"
   ]
  },
  {
   "cell_type": "code",
   "execution_count": 129,
   "id": "e6a4f6c0-e9d3-4619-82b3-3f6dc294f373",
   "metadata": {},
   "outputs": [],
   "source": [
    "n_timesteps = 20  # number of past days to look at\n",
    "X, y = [], []\n",
    "\n",
    "for i in range(len(df_en) - n_timesteps):\n",
    "    X.append(df_en.values[i:i+n_timesteps, :])  # last 5 days of all 9 series\n",
    "    y.append(df_en.values[i+n_timesteps, :])    # predict all 9 series next day\n",
    "\n",
    "X = np.array(X)  # shape: (num_samples, n_timesteps, 9)\n",
    "y = np.array(y)  # shape: (num_samples, 9)"
   ]
  },
  {
   "cell_type": "code",
   "execution_count": 130,
   "id": "c0e910c3-9404-47f6-9db4-a27587d04cbb",
   "metadata": {},
   "outputs": [],
   "source": [
    "split = int(len(X) * 0.97)\n",
    "X_train, X_test = X[:split], X[split:]\n",
    "y_train, y_test = y[:split], y[split:]"
   ]
  },
  {
   "cell_type": "code",
   "execution_count": 131,
   "id": "56db5365-4941-4c85-86b2-0157f72e0ee2",
   "metadata": {},
   "outputs": [
    {
     "data": {
      "text/plain": [
       "array([[[32.7, 14.1, 23.2, ...,  6. ,  0. ,  0. ],\n",
       "        [30.7, 16.2, 23.4, ...,  7.4,  0. ,  0. ],\n",
       "        [29.5, 17.7, 25.6, ...,  6.1,  0. ,  0. ],\n",
       "        ...,\n",
       "        [28.5, 18. , 25.2, ...,  6.4,  0. ,  0. ],\n",
       "        [28.7, 19.1, 26.3, ...,  5.5,  0. ,  1.6],\n",
       "        [29.6, 17.4, 26.5, ...,  6.7,  0. ,  1.5]],\n",
       "\n",
       "       [[30.7, 16.2, 23.4, ...,  7.4,  0. ,  0. ],\n",
       "        [29.5, 17.7, 25.6, ...,  6.1,  0. ,  0. ],\n",
       "        [28.4, 20.6, 24.7, ...,  5.2,  0. ,  1.6],\n",
       "        ...,\n",
       "        [28.7, 19.1, 26.3, ...,  5.5,  0. ,  1.6],\n",
       "        [29.6, 17.4, 26.5, ...,  6.7,  0. ,  1.5],\n",
       "        [30.6, 18.5, 22. , ...,  6.4,  0. ,  1. ]],\n",
       "\n",
       "       [[29.5, 17.7, 25.6, ...,  6.1,  0. ,  0. ],\n",
       "        [28.4, 20.6, 24.7, ...,  5.2,  0. ,  1.6],\n",
       "        [30.7, 18.3, 24.2, ...,  5.4,  0. ,  1.1],\n",
       "        ...,\n",
       "        [29.6, 17.4, 26.5, ...,  6.7,  0. ,  1.5],\n",
       "        [30.6, 18.5, 22. , ...,  6.4,  0. ,  1. ],\n",
       "        [27.1, 17.2, 27.1, ...,  5.9,  0. ,  3.1]],\n",
       "\n",
       "       ...,\n",
       "\n",
       "       [[18.9, 20.3, 23.9, ...,  6.1,  2.3,  6.4],\n",
       "        [17.7, 20.5, 25.3, ...,  5.8,  3.1,  5.7],\n",
       "        [16.8, 20.7, 27.7, ...,  4.8,  3.9,  6.8],\n",
       "        ...,\n",
       "        [24.7, 18.2, 24.7, ...,  4.6,  2.7,  5.7],\n",
       "        [28.7, 16.2, 25.3, ...,  3.1,  2.7,  5.3],\n",
       "        [26.6, 19.1, 22.4, ...,  3.9,  2.1,  5.5]],\n",
       "\n",
       "       [[17.7, 20.5, 25.3, ...,  5.8,  3.1,  5.7],\n",
       "        [16.8, 20.7, 27.7, ...,  4.8,  3.9,  6.8],\n",
       "        [20.6, 21. , 24.2, ...,  4.5,  3. ,  5.7],\n",
       "        ...,\n",
       "        [28.7, 16.2, 25.3, ...,  3.1,  2.7,  5.3],\n",
       "        [26.6, 19.1, 22.4, ...,  3.9,  2.1,  5.5],\n",
       "        [29.5, 19.3, 21.7, ...,  4.1,  2.6,  3.5]],\n",
       "\n",
       "       [[16.8, 20.7, 27.7, ...,  4.8,  3.9,  6.8],\n",
       "        [20.6, 21. , 24.2, ...,  4.5,  3. ,  5.7],\n",
       "        [18.1, 21.6, 25. , ...,  4.7,  2.8,  5.7],\n",
       "        ...,\n",
       "        [26.6, 19.1, 22.4, ...,  3.9,  2.1,  5.5],\n",
       "        [29.5, 19.3, 21.7, ...,  4.1,  2.6,  3.5],\n",
       "        [28.2, 18.5, 24.8, ...,  3.2,  3.7,  4.2]]])"
      ]
     },
     "execution_count": 131,
     "metadata": {},
     "output_type": "execute_result"
    }
   ],
   "source": [
    "X_train"
   ]
  },
  {
   "cell_type": "code",
   "execution_count": 132,
   "id": "8d154152-7117-46c9-b084-7381dee9c2fe",
   "metadata": {},
   "outputs": [
    {
     "data": {
      "text/plain": [
       "56"
      ]
     },
     "execution_count": 132,
     "metadata": {},
     "output_type": "execute_result"
    }
   ],
   "source": [
    "len(X_test)"
   ]
  },
  {
   "cell_type": "code",
   "execution_count": 133,
   "id": "eb124ad1-95b7-4a34-b50e-7ca52725ebcc",
   "metadata": {},
   "outputs": [
    {
     "name": "stderr",
     "output_type": "stream",
     "text": [
      "C:\\Users\\jens.nilsen\\python\\WPy64-31230\\python-3.12.3.amd64\\Lib\\site-packages\\keras\\src\\layers\\rnn\\rnn.py:199: UserWarning: Do not pass an `input_shape`/`input_dim` argument to a layer. When using Sequential models, prefer using an `Input(shape)` object as the first layer in the model instead.\n",
      "  super().__init__(**kwargs)\n"
     ]
    }
   ],
   "source": [
    "model = Sequential([\n",
    "    LSTM(64, return_sequences=True, input_shape=(n_timesteps, 9)),\n",
    "    LSTM(64),\n",
    "    Dense(9)\n",
    "])"
   ]
  },
  {
   "cell_type": "code",
   "execution_count": 134,
   "id": "622f846c-17cc-4d0b-8100-1584fcfde5c0",
   "metadata": {},
   "outputs": [],
   "source": [
    "optimizer = Adam(learning_rate=0.001)  # default 0.001\n",
    "model.compile(optimizer=optimizer, loss='mse')"
   ]
  },
  {
   "cell_type": "code",
   "execution_count": null,
   "id": "e7166979-ebda-4afa-8fd8-e9e09a48152b",
   "metadata": {},
   "outputs": [
    {
     "name": "stdout",
     "output_type": "stream",
     "text": [
      "Epoch 1/100\n",
      "\u001b[1m224/224\u001b[0m \u001b[32m━━━━━━━━━━━━━━━━━━━━\u001b[0m\u001b[37m\u001b[0m \u001b[1m4s\u001b[0m 8ms/step - loss: 74.8506 - val_loss: 17.3210\n",
      "Epoch 2/100\n",
      "\u001b[1m224/224\u001b[0m \u001b[32m━━━━━━━━━━━━━━━━━━━━\u001b[0m\u001b[37m\u001b[0m \u001b[1m2s\u001b[0m 7ms/step - loss: 18.5063 - val_loss: 12.5185\n",
      "Epoch 3/100\n",
      "\u001b[1m224/224\u001b[0m \u001b[32m━━━━━━━━━━━━━━━━━━━━\u001b[0m\u001b[37m\u001b[0m \u001b[1m2s\u001b[0m 7ms/step - loss: 13.3822 - val_loss: 13.3530\n",
      "Epoch 4/100\n",
      "\u001b[1m224/224\u001b[0m \u001b[32m━━━━━━━━━━━━━━━━━━━━\u001b[0m\u001b[37m\u001b[0m \u001b[1m1s\u001b[0m 6ms/step - loss: 13.0448 - val_loss: 13.4016\n",
      "Epoch 5/100\n",
      "\u001b[1m224/224\u001b[0m \u001b[32m━━━━━━━━━━━━━━━━━━━━\u001b[0m\u001b[37m\u001b[0m \u001b[1m1s\u001b[0m 6ms/step - loss: 11.7226 - val_loss: 13.6220\n",
      "Epoch 6/100\n",
      "\u001b[1m224/224\u001b[0m \u001b[32m━━━━━━━━━━━━━━━━━━━━\u001b[0m\u001b[37m\u001b[0m \u001b[1m2s\u001b[0m 7ms/step - loss: 9.6916 - val_loss: 14.4684\n",
      "Epoch 7/100\n",
      "\u001b[1m224/224\u001b[0m \u001b[32m━━━━━━━━━━━━━━━━━━━━\u001b[0m\u001b[37m\u001b[0m \u001b[1m2s\u001b[0m 7ms/step - loss: 8.5085 - val_loss: 12.6546\n",
      "Epoch 8/100\n",
      "\u001b[1m224/224\u001b[0m \u001b[32m━━━━━━━━━━━━━━━━━━━━\u001b[0m\u001b[37m\u001b[0m \u001b[1m2s\u001b[0m 7ms/step - loss: 6.8106 - val_loss: 10.8191\n",
      "Epoch 9/100\n",
      "\u001b[1m196/224\u001b[0m \u001b[32m━━━━━━━━━━━━━━━━━\u001b[0m\u001b[37m━━━\u001b[0m \u001b[1m0s\u001b[0m 7ms/step - loss: 5.5384"
     ]
    }
   ],
   "source": [
    "model.fit(X_train, y_train, validation_data=(X_test, y_test), epochs=100, batch_size=8)"
   ]
  },
  {
   "cell_type": "code",
   "execution_count": null,
   "id": "b6ee1424-0e9d-400d-8547-4bf2d072ca4e",
   "metadata": {},
   "outputs": [],
   "source": [
    "y_pred = model.predict(X_test)  # shape: (num_test, 9)\n",
    "\n",
    "import matplotlib.pyplot as plt\n",
    "\n",
    "plt.figure(figsize=(15, 10))\n",
    "for i, col in enumerate(df_en.columns):\n",
    "    plt.subplot(3, 3, i+1)\n",
    "    plt.plot(y_test[:, i], label='Actual')\n",
    "    plt.plot(y_pred[:, i], label='Predicted')\n",
    "    plt.title(col)\n",
    "    plt.xlabel('Time step')\n",
    "    plt.ylabel('Value')\n",
    "    plt.legend()\n",
    "plt.tight_layout()\n",
    "plt.show()\n"
   ]
  }
 ],
 "metadata": {
  "kernelspec": {
   "display_name": "Python 3 (ipykernel)",
   "language": "python",
   "name": "python3"
  },
  "language_info": {
   "codemirror_mode": {
    "name": "ipython",
    "version": 3
   },
   "file_extension": ".py",
   "mimetype": "text/x-python",
   "name": "python",
   "nbconvert_exporter": "python",
   "pygments_lexer": "ipython3",
   "version": "3.12.3"
  }
 },
 "nbformat": 4,
 "nbformat_minor": 5
}
